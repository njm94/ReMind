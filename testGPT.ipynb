{
 "cells": [
  {
   "cell_type": "code",
   "execution_count": 1,
   "id": "1f8e749c",
   "metadata": {},
   "outputs": [],
   "source": [
    "import voice_handler as vh\n",
    "import os\n",
    "import pandas as pd\n",
    "import openai\n",
    "import re\n",
    "import numpy as np\n",
    "openai.api_key = <OPENAI_KEY>\n",
    "# openai.Model.list()"
   ]
  },
  {
   "cell_type": "code",
   "execution_count": 3,
   "id": "b6caf8be",
   "metadata": {},
   "outputs": [],
   "source": [
    "def query_response(s, value):\n",
    "    result = re.search(value+': (.*)\\n', s)\n",
    "    return result.group(1)"
   ]
  },
  {
   "cell_type": "code",
   "execution_count": 4,
   "id": "859d6fea",
   "metadata": {},
   "outputs": [],
   "source": [
    "def update_df(df, s):\n",
    "    theme = query_response(s, 'THEME')\n",
    "    detail = query_response(s, 'DETAIL')\n",
    "    emotion = query_response(s, 'EMOTION')\n",
    "    valence = query_response(s, 'VALENCE')\n",
    "    arousal = query_response(s, 'AROUSAL')\n",
    "    name = query_response(s, 'NAME')\n",
    "    relationship = query_response(s, 'RELATIONSHIP')\n",
    "    \n",
    "    if theme in df['Theme'].values:\n",
    "        idx = df.index[df['Theme'] == theme][0]\n",
    "        df.at[idx, 'Occurrences'] += 1\n",
    "        df.at[idx, 'Valence'] = valence\n",
    "        df.at[idx, 'Arousal'] = arousal\n",
    "        df.at[idx, 'Emotional State'] = emotion\n",
    "        df.at[idx, 'Specific Detail'] = detail\n",
    "        df.at[idx, 'Name'] = name\n",
    "        df.at[idx, 'Relationship'] = relationship\n",
    "    else:\n",
    "        newdf = pd.DataFrame({'Theme':theme, 'Specific Detail':detail, 'Emotional State':emotion, 'Valence':valence, 'Arousal':arousal, 'Name':name, 'Relationship':relationship, 'Occurrences':1}, index=[0])\n",
    "        df = pd.concat([df, newdf], ignore_index=True)\n",
    "        \n",
    "    return df\n",
    "    "
   ]
  },
  {
   "cell_type": "code",
   "execution_count": 5,
   "id": "ffbf1a20",
   "metadata": {},
   "outputs": [],
   "source": [
    "def GPT_talk(df, temp=0.0, freq_penalty=0.0, max_token=2048):\n",
    "    sentiment_query = \"1) Classify my emotional state and label it with keyword 'EMOTION': \\n2) Identify a specific detail about the prompt and label with keyword 'DETAIL': \\n3) Identify a theme for why I am feeling this way and label it with keyword 'THEME': \\n4) Rate the valence on a scale of -1 to 1, label with keyword 'VALENCE': \\n5) Rate arousal on from 0 to 1 and label with keyword 'AROUSAL': \\n6) Use keyword NAME: If a person's name is mentioned, label it here, otherwise type N/A. \\n7) Use keyword RELATIONSHIP: If a person's name is mentioned, identify their relationship to me otherwise label it with N/A' \\n8) Label with keyword 'RESPONSE'. Make sure this response feels natural and conversational. If the valence > 0, respond by asking relevant questions. If valence < 0, comfort me. \"\n",
    "    \n",
    "    idx = np.where(df['Valence'].astype(float)>0)[0]\n",
    "    arr_themes = df['Theme'][idx].values\n",
    "    arr_details = df['Specific Detail'][idx].values\n",
    "    \n",
    "    \n",
    "    change_topic = \"\\nSteer the conversation towards the following topics: \" + ', '.join(arr_themes) + ', ' + ', '.join(arr_details)\n",
    "    \n",
    "    speech = vh.speech_to_text()\n",
    "    response = openai.Completion.create(\n",
    "      model=\"text-davinci-003\",\n",
    "      prompt= sentiment_query + change_topic + \"\\n\\n\" + speech[\"transcription\"] + \".\",\n",
    "      temperature=temp,\n",
    "      max_tokens=max_token,\n",
    "      top_p=1.0,\n",
    "      frequency_penalty=freq_penalty,\n",
    "      presence_penalty=0.0\n",
    "    )\n",
    "    print(sentiment_query + change_topic + \"\\n\\n\" + speech[\"transcription\"] + \".\")\n",
    "    print(\"\\n\")\n",
    "    s = response[\"choices\"][0][\"text\"]\n",
    "    print(s)\n",
    "    start_idx = s.find('RESPONSE')\n",
    "    vh.text_to_speech(s[start_idx+9:])\n",
    "    \n",
    "#     df = update_df(df, s)\n",
    "        \n",
    "    return response, df"
   ]
  },
  {
   "cell_type": "code",
   "execution_count": 7,
   "id": "061b6314",
   "metadata": {},
   "outputs": [],
   "source": [
    "def GPT_listen(df, temp=0.0, freq_penalty=0.0, max_token=2048):\n",
    "    sentiment_query = \"1) Classify my emotional state and label it with keyword 'EMOTION': \\n2) Identify a specific detail about the prompt and label with keyword 'DETAIL': \\n3) Identify a theme for why I am feeling this way and label it with keyword 'THEME': \\n4) Rate the valence on a scale of -1 to 1, label with keyword 'VALENCE': \\n5) Rate arousal on from 0 to 1 and label with keyword 'AROUSAL': \\n6) Use keyword NAME: If a person's name is mentioned, label it here, otherwise type N/A. \\n7) Use keyword RELATIONSHIP: If a person's name is mentioned, identify their relationship to me otherwise label it with N/A \\n8) Use keyword RESPONSE: type N/A\"\n",
    "        \n",
    "    speech = vh.speech_to_text()\n",
    "    response = openai.Completion.create(\n",
    "      model=\"text-davinci-003\",\n",
    "      prompt= sentiment_query + \"\\n\\n\" + speech[\"transcription\"] + \".\",\n",
    "      temperature=temp,\n",
    "      max_tokens=max_token,\n",
    "      top_p=1.0,\n",
    "      frequency_penalty=freq_penalty,\n",
    "      presence_penalty=0.0\n",
    "    )\n",
    "    print(\"\\n\")\n",
    "    s = response[\"choices\"][0][\"text\"]\n",
    "    print(s)\n",
    "    \n",
    "    df = update_df(df, s)\n",
    "        \n",
    "    return response, df"
   ]
  },
  {
   "cell_type": "code",
   "execution_count": 8,
   "id": "ce27830b",
   "metadata": {},
   "outputs": [
    {
     "name": "stdout",
     "output_type": "stream",
     "text": [
      "Empty DataFrame\n",
      "Columns: [Theme, Specific Detail, Emotional State, Valence, Arousal, Name, Relationship, Occurrences]\n",
      "Index: []\n"
     ]
    }
   ],
   "source": [
    "df = pd.DataFrame(columns=['Theme', 'Specific Detail', 'Emotional State', 'Valence', 'Arousal', 'Name', 'Relationship', 'Occurrences'])\n",
    "print(df)"
   ]
  },
  {
   "cell_type": "code",
   "execution_count": 13,
   "id": "c4d4e33d",
   "metadata": {
    "scrolled": true
   },
   "outputs": [
    {
     "name": "stdout",
     "output_type": "stream",
     "text": [
      "Adjusting for ambient noise...\n",
      "Listening...\n",
      "I have such fond memories of driving while listening to The Beatles\n",
      "\n",
      "\n",
      "\n",
      "\n",
      "EMOTION: Nostalgic\n",
      "DETAIL: Driving while listening to The Beatles\n",
      "THEME: Memories\n",
      "VALENCE: 0.8\n",
      "AROUSAL: 0.6\n",
      "NAME: N/A\n",
      "RELATIONSHIP: N/A\n",
      "RESPONSE: N/A\n",
      "\n",
      "\n",
      "\n",
      "\n",
      "\n",
      "          Theme                         Specific Detail Emotional State  \\\n",
      "0  Uncertainty                          Question asked        Confused    \n",
      "1   Recognition                             Nick's name          Relief   \n",
      "2    Inadequacy                                 Driving     Frustration   \n",
      "3      Memories  Driving while listening to The Beatles       Nostalgic   \n",
      "\n",
      "  Valence Arousal  Name Relationship Occurrences  \n",
      "0      0     0.5   N/A          N/A            1  \n",
      "1     0.8     0.5  Nick       Nephew           1  \n",
      "2    -0.5     0.8   N/A          N/A           1  \n",
      "3     0.8     0.6   N/A          N/A           1  \n"
     ]
    }
   ],
   "source": [
    "response, df = GPT_listen(df, temp=0.0, max_token=2048, freq_penalty=0.0)\n",
    "\n",
    "print(\"\\n\\n\\n\\n\")\n",
    "print(df)"
   ]
  },
  {
   "cell_type": "code",
   "execution_count": 42,
   "id": "0cfe442a",
   "metadata": {},
   "outputs": [
    {
     "name": "stdout",
     "output_type": "stream",
     "text": [
      "Adjusting for ambient noise...\n",
      "Listening...\n",
      "I don't know why everyone is treating me like a child\n",
      "1) Classify my emotional state and label it with keyword 'EMOTION': \n",
      "2) Identify a specific detail about the prompt and label with keyword 'DETAIL': \n",
      "3) Identify a theme for why I am feeling this way and label it with keyword 'THEME': \n",
      "4) Rate the valence on a scale of -1 to 1, label with keyword 'VALENCE': \n",
      "5) Rate arousal on from 0 to 1 and label with keyword 'AROUSAL': \n",
      "6) Use keyword NAME: If a person's name is mentioned, label it here, otherwise type N/A. \n",
      "7) Use keyword RELATIONSHIP: If a person's name is mentioned, identify their relationship to me otherwise label it with N/A' \n",
      "8) Label with keyword 'RESPONSE'. Make sure this response feels natural and conversational. If the valence > 0, respond by asking relevant questions. If valence < 0, comfort me. \n",
      "Steer the conversation towards the following topics: Recognition, Memories, Nick's name, Driving while listening to The Beatles\n",
      "\n",
      "I don't know why everyone is treating me like a child.\n",
      "\n",
      "\n",
      "\n",
      "EMOTION: Frustration\n",
      "DETAIL: Everyone is treating me like a child\n",
      "THEME: Lack of recognition\n",
      "VALENCE: -0.5\n",
      "AROUSAL: 0.7\n",
      "NAME: N/A\n",
      "RELATIONSHIP: N/A\n",
      "RESPONSE: It sounds like you're feeling frustrated because you feel like you're not being recognized. Is that right? What do you think would help you feel more respected?\n",
      "\n",
      "\n",
      "\n",
      "\n",
      "\n",
      "          Theme                         Specific Detail Emotional State  \\\n",
      "0  Uncertainty                          Question asked        Confused    \n",
      "1   Recognition                             Nick's name          Relief   \n",
      "2    Inadequacy                                 Driving     Frustration   \n",
      "3      Memories  Driving while listening to The Beatles       Nostalgic   \n",
      "\n",
      "  Valence Arousal  Name Relationship Occurrences  \n",
      "0      0     0.5   N/A          N/A            1  \n",
      "1     0.8     0.5  Nick       Nephew           1  \n",
      "2    -0.5     0.8   N/A          N/A           1  \n",
      "3     0.8     0.6   N/A          N/A           1  \n"
     ]
    }
   ],
   "source": [
    "response, df = GPT_talk(df, temp=0.0, max_token=2048, freq_penalty=0.0)\n",
    "\n",
    "print(\"\\n\\n\\n\\n\")\n",
    "print(df)"
   ]
  }
 ],
 "metadata": {
  "kernelspec": {
   "display_name": "Python 3 (ipykernel)",
   "language": "python",
   "name": "python3"
  },
  "language_info": {
   "codemirror_mode": {
    "name": "ipython",
    "version": 3
   },
   "file_extension": ".py",
   "mimetype": "text/x-python",
   "name": "python",
   "nbconvert_exporter": "python",
   "pygments_lexer": "ipython3",
   "version": "3.11.0"
  }
 },
 "nbformat": 4,
 "nbformat_minor": 5
}
