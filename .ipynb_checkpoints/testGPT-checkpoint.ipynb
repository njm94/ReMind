{
 "cells": [
  {
   "cell_type": "code",
   "execution_count": 1,
   "id": "1f8e749c",
   "metadata": {},
   "outputs": [],
   "source": [
    "import voice_handler as vh\n",
    "import os\n",
    "import pandas as pd\n",
    "import openai\n",
    "import re\n",
    "import numpy as np\n",
    "openai.api_key = <OPENAI_KEY>\n",
    "# openai.Model.list()"
   ]
  },
  {
   "cell_type": "code",
   "execution_count": 2,
   "id": "4863f21b",
   "metadata": {},
   "outputs": [],
   "source": [
    "response = openai.Completion.create(\n",
    "  model=\"text-davinci-003\",\n",
    "  prompt=\"Initiate a conversation with me, trying to comfort me on the \",\n",
    "  temperature=0,\n",
    "  max_tokens=60,\n",
    "  top_p=1.0,\n",
    "  frequency_penalty=0.0,\n",
    "  presence_penalty=0.0\n",
    ")"
   ]
  },
  {
   "cell_type": "code",
   "execution_count": 3,
   "id": "b6caf8be",
   "metadata": {},
   "outputs": [],
   "source": [
    "def query_response(s, value):\n",
    "    result = re.search(value+': (.*)\\n', s)\n",
    "    return result.group(1)"
   ]
  },
  {
   "cell_type": "code",
   "execution_count": 4,
   "id": "859d6fea",
   "metadata": {},
   "outputs": [],
   "source": [
    "def update_df(df, s):\n",
    "    theme = query_response(s, 'THEME')\n",
    "    detail = query_response(s, 'DETAIL')\n",
    "    emotion = query_response(s, 'EMOTION')\n",
    "    valence = query_response(s, 'VALENCE')\n",
    "    arousal = query_response(s, 'AROUSAL')\n",
    "    name = query_response(s, 'NAME')\n",
    "    relationship = query_response(s, 'RELATIONSHIP')\n",
    "    \n",
    "    if theme in df['Theme'].values:\n",
    "        idx = df.index[df['Theme'] == theme][0]\n",
    "        df.at[idx, 'Occurrences'] += 1\n",
    "        df.at[idx, 'Valence'] = valence\n",
    "        df.at[idx, 'Arousal'] = arousal\n",
    "        df.at[idx, 'Emotional State'] = emotion\n",
    "        df.at[idx, 'Specific Detail'] = detail\n",
    "        df.at[idx, 'Name'] = name\n",
    "        df.at[idx, 'Relationship'] = relationship\n",
    "    else:\n",
    "        newdf = pd.DataFrame({'Theme':theme, 'Specific Detail':detail, 'Emotional State':emotion, 'Valence':valence, 'Arousal':arousal, 'Name':name, 'Relationship':relationship, 'Occurrences':1}, index=[0])\n",
    "        df = pd.concat([df, newdf], ignore_index=True)\n",
    "        \n",
    "    return df\n",
    "    "
   ]
  },
  {
   "cell_type": "code",
   "execution_count": 5,
   "id": "bb9e0825",
   "metadata": {},
   "outputs": [],
   "source": [
    "def GPT_talk(df, temp=0.0, freq_penalty=0.0, max_token=2048):\n",
    "    sentiment_query = \"1) Classify my emotional state and label it with keyword 'EMOTION': \\n2) Identify a specific detail about the prompt and label with keyword 'DETAIL': \\n3) Identify a theme for why I am feeling this way and label it with keyword 'THEME': \\n4) Rate the valence on a scale of -1 to 1, label with keyword 'VALENCE': \\n5) Rate arousal on from 0 to 1 and label with keyword 'AROUSAL': \\n6) Use keyword NAME: If a person's name is mentioned, label it here, otherwise type N/A. \\n7) Use keyword RELATIONSHIP: If a person's name is mentioned, identify their relationship to me otherwise label it with N/A' \\n8) Label with keyword 'RESPONSE'. Make sure this response feels natural and conversational. If the valence > 0, respond by asking relevant questions. If valence < 0, comfort me. \"\n",
    "    \n",
    "    idx = np.where(df['Valence'].astype(float)>0)[0]\n",
    "    arr_themes = df['Theme'][idx].values\n",
    "    arr_details = df['Specific Detail'][idx].values\n",
    "    \n",
    "    \n",
    "    change_topic = \"\\nSteer the conversation towards the following topics: \" + ', '.join(arr_themes) + ', ' + ', '.join(arr_details)\n",
    "    \n",
    "    speech = vh.speech_to_text()\n",
    "    response = openai.Completion.create(\n",
    "      model=\"text-davinci-003\",\n",
    "      prompt= sentiment_query + change_topic + \"\\n\\n\" + speech[\"transcription\"] + \".\",\n",
    "      temperature=temp,\n",
    "      max_tokens=max_token,\n",
    "      top_p=1.0,\n",
    "      frequency_penalty=freq_penalty,\n",
    "      presence_penalty=0.0\n",
    "    )\n",
    "    print(sentiment_query + change_topic + \"\\n\\n\" + speech[\"transcription\"] + \".\")\n",
    "    print(\"\\n\")\n",
    "    s = response[\"choices\"][0][\"text\"]\n",
    "    print(s)\n",
    "    start_idx = s.find('RESPONSE')\n",
    "    vh.text_to_speech(s[start_idx+9:])\n",
    "    \n",
    "#     df = update_df(df, s)\n",
    "        \n",
    "    return response, df"
   ]
  },
  {
   "cell_type": "code",
   "execution_count": 6,
   "id": "04625b0e",
   "metadata": {},
   "outputs": [],
   "source": [
    "def GPT_talk_name_reminder(df, temp=0.0, freq_penalty=0.0, max_token=2048):\n",
    "    sentiment_query = \"1) Classify my emotional state and label it with keyword 'EMOTION': \\n2) Identify a specific detail about the prompt and label with keyword 'DETAIL': \\n3) Identify a theme for why I am feeling this way and label it with keyword 'THEME': \\n4) Rate the valence on a scale of -1 to 1, label with keyword 'VALENCE': \\n5) Rate arousal on from 0 to 1 and label with keyword 'AROUSAL': \\n6) Use keyword NAME: If a person's name is mentioned, label it here, otherwise type N/A. \\n7) Use keyword RELATIONSHIP: If a person's name is mentioned, identify their relationship to me otherwise label it with N/A' \\n8) Label with keyword 'RESPONSE'. Make sure this response feels natural and conversational. If the valence > 0, respond by asking relevant questions. If valence < 0, comfort me. \"\n",
    "    \n",
    "    idx = np.where(df['Valence'].astype(float)>0)[0]\n",
    "    arr_themes = df['Theme'][idx].values\n",
    "    arr_details = df['Specific Detail'][idx].values\n",
    "    \n",
    "    \n",
    "    change_topic = \"\\nSteer the conversation towards the following topics: \" + ', '.join(arr_themes) + ', ' + ', '.join(arr_details)\n",
    "    name_reminder = \"\\nRemind me about my nephew Nick who doesn't want me driving because he cares for my safety.\"\n",
    "    \n",
    "    speech = vh.speech_to_text()\n",
    "    response = openai.Completion.create(\n",
    "      model=\"text-davinci-003\",\n",
    "      prompt= sentiment_query + change_topic + name_reminder + \"\\n\\n\" + speech[\"transcription\"] + \".\",\n",
    "      temperature=temp,\n",
    "      max_tokens=max_token,\n",
    "      top_p=1.0,\n",
    "      frequency_penalty=freq_penalty,\n",
    "      presence_penalty=0.0\n",
    "    )\n",
    "    print(sentiment_query + change_topic + name_reminder  + \"\\n\\n\" + speech[\"transcription\"] + \".\")\n",
    "    print(\"\\n\")\n",
    "    s = response[\"choices\"][0][\"text\"]\n",
    "    print(s)\n",
    "    start_idx = s.find('RESPONSE')\n",
    "    vh.text_to_speech(s[start_idx+9:])\n",
    "    \n",
    "#     df = update_df(df, s)\n",
    "        \n",
    "    return response, df"
   ]
  },
  {
   "cell_type": "code",
   "execution_count": 41,
   "id": "a9da49f1",
   "metadata": {},
   "outputs": [],
   "source": [
    "def GPT_talk_beatles_reminder(df, temp=0.0, freq_penalty=0.0, max_token=2048):\n",
    "    sentiment_query = \"1) Classify my emotional state and label it with keyword 'EMOTION': \\n2) Identify a specific detail about the prompt and label with keyword 'DETAIL': \\n3) Identify a theme for why I am feeling this way and label it with keyword 'THEME': \\n4) Rate the valence on a scale of -1 to 1, label with keyword 'VALENCE': \\n5) Rate arousal on from 0 to 1 and label with keyword 'AROUSAL': \\n6) Use keyword NAME: If a person's name is mentioned, label it here, otherwise type N/A. \\n7) Use keyword RELATIONSHIP: If a person's name is mentioned, identify their relationship to me otherwise label it with N/A' \\n8) Label with keyword 'RESPONSE'. Make sure this response feels natural and conversational. Respond by asking relevant questions \"\n",
    "    \n",
    "    idx = np.where(df['Valence'].astype(float)>0)[0]\n",
    "    arr_themes = df['Theme'][idx].values\n",
    "    arr_details = df['Specific Detail'][idx].values\n",
    "    \n",
    "    \n",
    "    change_topic = \"\\nSteer the conversation towards the Beatles\"\n",
    "#     name_reminder = \"\\nRemind me about my nephew Nick who doesn't want me driving because he cares for my safety.\"\n",
    "    \n",
    "    speech = vh.speech_to_text()\n",
    "    response = openai.Completion.create(\n",
    "      model=\"text-davinci-003\",\n",
    "      prompt= sentiment_query + change_topic  + \"\\n\\n\" + speech[\"transcription\"] + \".\",\n",
    "      temperature=temp,\n",
    "      max_tokens=max_token,\n",
    "      top_p=1.0,\n",
    "      frequency_penalty=freq_penalty,\n",
    "      presence_penalty=0.0\n",
    "    )\n",
    "    print(sentiment_query + change_topic + name_reminder  + \"\\n\\n\" + speech[\"transcription\"] + \".\")\n",
    "    print(\"\\n\")\n",
    "    s = response[\"choices\"][0][\"text\"]\n",
    "    print(s)\n",
    "    start_idx = s.find('RESPONSE')\n",
    "    vh.text_to_speech(s[start_idx+9:])\n",
    "    \n",
    "#     df = update_df(df, s)\n",
    "        \n",
    "    return response, df\n"
   ]
  },
  {
   "cell_type": "code",
   "execution_count": 7,
   "id": "061b6314",
   "metadata": {},
   "outputs": [],
   "source": [
    "def GPT_listen(df, temp=0.0, freq_penalty=0.0, max_token=2048):\n",
    "    sentiment_query = \"1) Classify my emotional state and label it with keyword 'EMOTION': \\n2) Identify a specific detail about the prompt and label with keyword 'DETAIL': \\n3) Identify a theme for why I am feeling this way and label it with keyword 'THEME': \\n4) Rate the valence on a scale of -1 to 1, label with keyword 'VALENCE': \\n5) Rate arousal on from 0 to 1 and label with keyword 'AROUSAL': \\n6) Use keyword NAME: If a person's name is mentioned, label it here, otherwise type N/A. \\n7) Use keyword RELATIONSHIP: If a person's name is mentioned, identify their relationship to me otherwise label it with N/A \\n8) Use keyword RESPONSE: type N/A\"\n",
    "        \n",
    "    speech = vh.speech_to_text()\n",
    "    response = openai.Completion.create(\n",
    "      model=\"text-davinci-003\",\n",
    "      prompt= sentiment_query + \"\\n\\n\" + speech[\"transcription\"] + \".\",\n",
    "      temperature=temp,\n",
    "      max_tokens=max_token,\n",
    "      top_p=1.0,\n",
    "      frequency_penalty=freq_penalty,\n",
    "      presence_penalty=0.0\n",
    "    )\n",
    "    print(\"\\n\")\n",
    "    s = response[\"choices\"][0][\"text\"]\n",
    "    print(s)\n",
    "    \n",
    "    df = update_df(df, s)\n",
    "        \n",
    "    return response, df"
   ]
  },
  {
   "cell_type": "code",
   "execution_count": 8,
   "id": "44025246",
   "metadata": {},
   "outputs": [
    {
     "name": "stdout",
     "output_type": "stream",
     "text": [
      "Empty DataFrame\n",
      "Columns: [Theme, Specific Detail, Emotional State, Valence, Arousal, Name, Relationship, Occurrences]\n",
      "Index: []\n"
     ]
    }
   ],
   "source": [
    "df = pd.DataFrame(columns=['Theme', 'Specific Detail', 'Emotional State', 'Valence', 'Arousal', 'Name', 'Relationship', 'Occurrences'])\n",
    "print(df)"
   ]
  },
  {
   "cell_type": "code",
   "execution_count": 13,
   "id": "c4d4e33d",
   "metadata": {
    "scrolled": true
   },
   "outputs": [
    {
     "name": "stdout",
     "output_type": "stream",
     "text": [
      "Adjusting for ambient noise...\n",
      "Listening...\n",
      "I have such fond memories of driving while listening to The Beatles\n",
      "\n",
      "\n",
      "\n",
      "\n",
      "EMOTION: Nostalgic\n",
      "DETAIL: Driving while listening to The Beatles\n",
      "THEME: Memories\n",
      "VALENCE: 0.8\n",
      "AROUSAL: 0.6\n",
      "NAME: N/A\n",
      "RELATIONSHIP: N/A\n",
      "RESPONSE: N/A\n",
      "\n",
      "\n",
      "\n",
      "\n",
      "\n",
      "          Theme                         Specific Detail Emotional State  \\\n",
      "0  Uncertainty                          Question asked        Confused    \n",
      "1   Recognition                             Nick's name          Relief   \n",
      "2    Inadequacy                                 Driving     Frustration   \n",
      "3      Memories  Driving while listening to The Beatles       Nostalgic   \n",
      "\n",
      "  Valence Arousal  Name Relationship Occurrences  \n",
      "0      0     0.5   N/A          N/A            1  \n",
      "1     0.8     0.5  Nick       Nephew           1  \n",
      "2    -0.5     0.8   N/A          N/A           1  \n",
      "3     0.8     0.6   N/A          N/A           1  \n"
     ]
    }
   ],
   "source": [
    "response, df = GPT_listen(df, temp=0.0, max_token=2048, freq_penalty=0.0)\n",
    "\n",
    "print(\"\\n\\n\\n\\n\")\n",
    "print(df)"
   ]
  },
  {
   "cell_type": "code",
   "execution_count": 42,
   "id": "0cfe442a",
   "metadata": {},
   "outputs": [
    {
     "name": "stdout",
     "output_type": "stream",
     "text": [
      "Adjusting for ambient noise...\n",
      "Listening...\n",
      "I don't know why everyone is treating me like a child\n",
      "1) Classify my emotional state and label it with keyword 'EMOTION': \n",
      "2) Identify a specific detail about the prompt and label with keyword 'DETAIL': \n",
      "3) Identify a theme for why I am feeling this way and label it with keyword 'THEME': \n",
      "4) Rate the valence on a scale of -1 to 1, label with keyword 'VALENCE': \n",
      "5) Rate arousal on from 0 to 1 and label with keyword 'AROUSAL': \n",
      "6) Use keyword NAME: If a person's name is mentioned, label it here, otherwise type N/A. \n",
      "7) Use keyword RELATIONSHIP: If a person's name is mentioned, identify their relationship to me otherwise label it with N/A' \n",
      "8) Label with keyword 'RESPONSE'. Make sure this response feels natural and conversational. If the valence > 0, respond by asking relevant questions. If valence < 0, comfort me. \n",
      "Steer the conversation towards the following topics: Recognition, Memories, Nick's name, Driving while listening to The Beatles\n",
      "\n",
      "I don't know why everyone is treating me like a child.\n",
      "\n",
      "\n",
      "\n",
      "EMOTION: Frustration\n",
      "DETAIL: Everyone is treating me like a child\n",
      "THEME: Lack of recognition\n",
      "VALENCE: -0.5\n",
      "AROUSAL: 0.7\n",
      "NAME: N/A\n",
      "RELATIONSHIP: N/A\n",
      "RESPONSE: It sounds like you're feeling frustrated because you feel like you're not being recognized. Is that right? What do you think would help you feel more respected?\n",
      "\n",
      "\n",
      "\n",
      "\n",
      "\n",
      "          Theme                         Specific Detail Emotional State  \\\n",
      "0  Uncertainty                          Question asked        Confused    \n",
      "1   Recognition                             Nick's name          Relief   \n",
      "2    Inadequacy                                 Driving     Frustration   \n",
      "3      Memories  Driving while listening to The Beatles       Nostalgic   \n",
      "\n",
      "  Valence Arousal  Name Relationship Occurrences  \n",
      "0      0     0.5   N/A          N/A            1  \n",
      "1     0.8     0.5  Nick       Nephew           1  \n",
      "2    -0.5     0.8   N/A          N/A           1  \n",
      "3     0.8     0.6   N/A          N/A           1  \n"
     ]
    }
   ],
   "source": [
    "response, df = GPT_talk(df, temp=0.0, max_token=2048, freq_penalty=0.0)\n",
    "\n",
    "print(\"\\n\\n\\n\\n\")\n",
    "print(df)"
   ]
  },
  {
   "cell_type": "code",
   "execution_count": 44,
   "id": "cc56b350",
   "metadata": {},
   "outputs": [
    {
     "name": "stdout",
     "output_type": "stream",
     "text": [
      "Adjusting for ambient noise...\n",
      "Listening...\n",
      "ask me not to go for the drive\n",
      "1) Classify my emotional state and label it with keyword 'EMOTION': \n",
      "2) Identify a specific detail about the prompt and label with keyword 'DETAIL': \n",
      "3) Identify a theme for why I am feeling this way and label it with keyword 'THEME': \n",
      "4) Rate the valence on a scale of -1 to 1, label with keyword 'VALENCE': \n",
      "5) Rate arousal on from 0 to 1 and label with keyword 'AROUSAL': \n",
      "6) Use keyword NAME: If a person's name is mentioned, label it here, otherwise type N/A. \n",
      "7) Use keyword RELATIONSHIP: If a person's name is mentioned, identify their relationship to me otherwise label it with N/A' \n",
      "8) Label with keyword 'RESPONSE'. Make sure this response feels natural and conversational. If the valence > 0, respond by asking relevant questions. If valence < 0, comfort me. \n",
      "Steer the conversation towards the following topics: Recognition, Memories, Nick's name, Driving while listening to The Beatles\n",
      "Remind me about my nephew Nick who doesn't want me driving because he cares for my safety.\n",
      "\n",
      "ask me not to go for the drive.\n",
      "\n",
      "\n",
      "\n",
      "EMOTION: Contentment\n",
      "DETAIL: Driving while listening to The Beatles\n",
      "THEME: Safety\n",
      "VALENCE: 0.5\n",
      "AROUSAL: 0.7\n",
      "NAME: Nick\n",
      "RELATIONSHIP: Nephew\n",
      "RESPONSE: Hey, I know you want to go for a drive while listening to The Beatles, but don't forget that your nephew Nick cares about your safety and doesn't want you to go.\n",
      "\n",
      "\n",
      "\n",
      "\n",
      "\n",
      "          Theme                         Specific Detail Emotional State  \\\n",
      "0  Uncertainty                          Question asked        Confused    \n",
      "1   Recognition                             Nick's name          Relief   \n",
      "2    Inadequacy                                 Driving     Frustration   \n",
      "3      Memories  Driving while listening to The Beatles       Nostalgic   \n",
      "\n",
      "  Valence Arousal  Name Relationship Occurrences  \n",
      "0      0     0.5   N/A          N/A            1  \n",
      "1     0.8     0.5  Nick       Nephew           1  \n",
      "2    -0.5     0.8   N/A          N/A           1  \n",
      "3     0.8     0.6   N/A          N/A           1  \n"
     ]
    }
   ],
   "source": [
    "response, df = GPT_talk_name_reminder(df, temp=0.0, max_token=2048, freq_penalty=0.0)\n",
    "\n",
    "print(\"\\n\\n\\n\\n\")\n",
    "print(df)"
   ]
  },
  {
   "cell_type": "code",
   "execution_count": 45,
   "id": "77a55967",
   "metadata": {},
   "outputs": [
    {
     "name": "stdout",
     "output_type": "stream",
     "text": [
      "Adjusting for ambient noise...\n",
      "Listening...\n",
      "yeah I actually had a conversation with him yes regarding driving and listening to The Beatles yeah I understand now\n"
     ]
    },
    {
     "ename": "NameError",
     "evalue": "name 'name_reminder' is not defined",
     "output_type": "error",
     "traceback": [
      "\u001b[1;31m---------------------------------------------------------------------------\u001b[0m",
      "\u001b[1;31mNameError\u001b[0m                                 Traceback (most recent call last)",
      "Cell \u001b[1;32mIn[45], line 1\u001b[0m\n\u001b[1;32m----> 1\u001b[0m response, df \u001b[38;5;241m=\u001b[39m GPT_talk_beatles_reminder(df, temp\u001b[38;5;241m=\u001b[39m\u001b[38;5;241m0.0\u001b[39m, max_token\u001b[38;5;241m=\u001b[39m\u001b[38;5;241m2048\u001b[39m, freq_penalty\u001b[38;5;241m=\u001b[39m\u001b[38;5;241m0.0\u001b[39m)\n\u001b[0;32m      3\u001b[0m \u001b[38;5;28mprint\u001b[39m(\u001b[38;5;124m\"\u001b[39m\u001b[38;5;130;01m\\n\u001b[39;00m\u001b[38;5;130;01m\\n\u001b[39;00m\u001b[38;5;130;01m\\n\u001b[39;00m\u001b[38;5;130;01m\\n\u001b[39;00m\u001b[38;5;124m\"\u001b[39m)\n\u001b[0;32m      4\u001b[0m \u001b[38;5;28mprint\u001b[39m(df)\n",
      "Cell \u001b[1;32mIn[41], line 22\u001b[0m, in \u001b[0;36mGPT_talk_beatles_reminder\u001b[1;34m(df, temp, freq_penalty, max_token)\u001b[0m\n\u001b[0;32m     12\u001b[0m speech \u001b[38;5;241m=\u001b[39m vh\u001b[38;5;241m.\u001b[39mspeech_to_text()\n\u001b[0;32m     13\u001b[0m response \u001b[38;5;241m=\u001b[39m openai\u001b[38;5;241m.\u001b[39mCompletion\u001b[38;5;241m.\u001b[39mcreate(\n\u001b[0;32m     14\u001b[0m   model\u001b[38;5;241m=\u001b[39m\u001b[38;5;124m\"\u001b[39m\u001b[38;5;124mtext-davinci-003\u001b[39m\u001b[38;5;124m\"\u001b[39m,\n\u001b[0;32m     15\u001b[0m   prompt\u001b[38;5;241m=\u001b[39m sentiment_query \u001b[38;5;241m+\u001b[39m change_topic  \u001b[38;5;241m+\u001b[39m \u001b[38;5;124m\"\u001b[39m\u001b[38;5;130;01m\\n\u001b[39;00m\u001b[38;5;130;01m\\n\u001b[39;00m\u001b[38;5;124m\"\u001b[39m \u001b[38;5;241m+\u001b[39m speech[\u001b[38;5;124m\"\u001b[39m\u001b[38;5;124mtranscription\u001b[39m\u001b[38;5;124m\"\u001b[39m] \u001b[38;5;241m+\u001b[39m \u001b[38;5;124m\"\u001b[39m\u001b[38;5;124m.\u001b[39m\u001b[38;5;124m\"\u001b[39m,\n\u001b[1;32m   (...)\u001b[0m\n\u001b[0;32m     20\u001b[0m   presence_penalty\u001b[38;5;241m=\u001b[39m\u001b[38;5;241m0.0\u001b[39m\n\u001b[0;32m     21\u001b[0m )\n\u001b[1;32m---> 22\u001b[0m \u001b[38;5;28mprint\u001b[39m(sentiment_query \u001b[38;5;241m+\u001b[39m change_topic \u001b[38;5;241m+\u001b[39m name_reminder  \u001b[38;5;241m+\u001b[39m \u001b[38;5;124m\"\u001b[39m\u001b[38;5;130;01m\\n\u001b[39;00m\u001b[38;5;130;01m\\n\u001b[39;00m\u001b[38;5;124m\"\u001b[39m \u001b[38;5;241m+\u001b[39m speech[\u001b[38;5;124m\"\u001b[39m\u001b[38;5;124mtranscription\u001b[39m\u001b[38;5;124m\"\u001b[39m] \u001b[38;5;241m+\u001b[39m \u001b[38;5;124m\"\u001b[39m\u001b[38;5;124m.\u001b[39m\u001b[38;5;124m\"\u001b[39m)\n\u001b[0;32m     23\u001b[0m \u001b[38;5;28mprint\u001b[39m(\u001b[38;5;124m\"\u001b[39m\u001b[38;5;130;01m\\n\u001b[39;00m\u001b[38;5;124m\"\u001b[39m)\n\u001b[0;32m     24\u001b[0m s \u001b[38;5;241m=\u001b[39m response[\u001b[38;5;124m\"\u001b[39m\u001b[38;5;124mchoices\u001b[39m\u001b[38;5;124m\"\u001b[39m][\u001b[38;5;241m0\u001b[39m][\u001b[38;5;124m\"\u001b[39m\u001b[38;5;124mtext\u001b[39m\u001b[38;5;124m\"\u001b[39m]\n",
      "\u001b[1;31mNameError\u001b[0m: name 'name_reminder' is not defined"
     ]
    }
   ],
   "source": [
    "response, df = GPT_talk_beatles_reminder(df, temp=0.0, max_token=2048, freq_penalty=0.0)\n",
    "\n",
    "print(\"\\n\\n\\n\\n\")\n",
    "print(df)"
   ]
  },
  {
   "cell_type": "code",
   "execution_count": 131,
   "id": "23d84226",
   "metadata": {},
   "outputs": [
    {
     "name": "stdout",
     "output_type": "stream",
     "text": [
      "              Theme Emotional State  Valence  Arousal Occurrences\n",
      "0  Environmentalism     Frustration     -0.5      0.8           1\n",
      "1         Rejection         Anxiety     -0.6      0.8          13\n"
     ]
    }
   ],
   "source": [
    "if 'Rejection' in test['Theme'].values:\n",
    "\n",
    "    idx = test.index[test['Theme'] == 'Rejection'][0]\n",
    "    test.at[idx, 'Occurrences'] += 1\n",
    "#     test.at[idx, 'Arousal']\n",
    "\n",
    "\n",
    "print(test)"
   ]
  },
  {
   "cell_type": "code",
   "execution_count": null,
   "id": "b93de0b0",
   "metadata": {},
   "outputs": [],
   "source": []
  },
  {
   "cell_type": "code",
   "execution_count": null,
   "id": "8ee1e40d",
   "metadata": {},
   "outputs": [],
   "source": []
  }
 ],
 "metadata": {
  "kernelspec": {
   "display_name": "Python 3 (ipykernel)",
   "language": "python",
   "name": "python3"
  },
  "language_info": {
   "codemirror_mode": {
    "name": "ipython",
    "version": 3
   },
   "file_extension": ".py",
   "mimetype": "text/x-python",
   "name": "python",
   "nbconvert_exporter": "python",
   "pygments_lexer": "ipython3",
   "version": "3.11.0"
  }
 },
 "nbformat": 4,
 "nbformat_minor": 5
}
